{
 "cells": [
  {
   "cell_type": "markdown",
   "metadata": {},
   "source": [
    "# CSCI-UA 0473 - Introduction to Machine Learning\n",
    "## Wednesday, March 1, 2017"
   ]
  },
  {
   "cell_type": "code",
   "execution_count": 1,
   "metadata": {},
   "outputs": [],
   "source": [
    "import sys\n",
    "import numpy as np\n",
    "from pprint import pprint as pp\n",
    "import random\n",
    "import pandas as pd\n",
    "\n",
    "from sklearn import datasets\n",
    "import matplotlib.pyplot as plt\n",
    "import matplotlib.cm as cm\n",
    "%matplotlib inline\n",
    "\n",
    "np.random.seed(12345)"
   ]
  },
  {
   "cell_type": "markdown",
   "metadata": {},
   "source": [
    "## 1. Data"
   ]
  },
  {
   "cell_type": "code",
   "execution_count": 2,
   "metadata": {},
   "outputs": [],
   "source": [
    "from sklearn.datasets import fetch_mldata\n",
    "mnist = fetch_mldata('MNIST original', data_home='/Users/jason/Downloads/') # Give an appropriate custom path\n",
    "\n",
    "K = 10\n",
    "D = 784"
   ]
  },
  {
   "cell_type": "code",
   "execution_count": 3,
   "metadata": {},
   "outputs": [
    {
     "name": "stdout",
     "output_type": "stream",
     "text": [
      "70000\n",
      "70000\n"
     ]
    }
   ],
   "source": [
    "print (len(mnist['target']))\n",
    "print (len(mnist['data']))"
   ]
  },
  {
   "cell_type": "code",
   "execution_count": 4,
   "metadata": {},
   "outputs": [],
   "source": [
    "all_data = mnist['data']\n",
    "all_labels = np.array([int(d) for d in mnist['target']])"
   ]
  },
  {
   "cell_type": "code",
   "execution_count": 5,
   "metadata": {},
   "outputs": [
    {
     "data": {
      "text/html": [
       "<div>\n",
       "<style scoped>\n",
       "    .dataframe tbody tr th:only-of-type {\n",
       "        vertical-align: middle;\n",
       "    }\n",
       "\n",
       "    .dataframe tbody tr th {\n",
       "        vertical-align: top;\n",
       "    }\n",
       "\n",
       "    .dataframe thead th {\n",
       "        text-align: right;\n",
       "    }\n",
       "</style>\n",
       "<table border=\"1\" class=\"dataframe\">\n",
       "  <thead>\n",
       "    <tr style=\"text-align: right;\">\n",
       "      <th></th>\n",
       "      <th>digit</th>\n",
       "      <th>count</th>\n",
       "    </tr>\n",
       "  </thead>\n",
       "  <tbody>\n",
       "    <tr>\n",
       "      <th>0</th>\n",
       "      <td>0</td>\n",
       "      <td>6903</td>\n",
       "    </tr>\n",
       "    <tr>\n",
       "      <th>1</th>\n",
       "      <td>1</td>\n",
       "      <td>7877</td>\n",
       "    </tr>\n",
       "    <tr>\n",
       "      <th>2</th>\n",
       "      <td>2</td>\n",
       "      <td>6990</td>\n",
       "    </tr>\n",
       "    <tr>\n",
       "      <th>3</th>\n",
       "      <td>3</td>\n",
       "      <td>7141</td>\n",
       "    </tr>\n",
       "    <tr>\n",
       "      <th>4</th>\n",
       "      <td>4</td>\n",
       "      <td>6824</td>\n",
       "    </tr>\n",
       "    <tr>\n",
       "      <th>5</th>\n",
       "      <td>5</td>\n",
       "      <td>6313</td>\n",
       "    </tr>\n",
       "    <tr>\n",
       "      <th>6</th>\n",
       "      <td>6</td>\n",
       "      <td>6876</td>\n",
       "    </tr>\n",
       "    <tr>\n",
       "      <th>7</th>\n",
       "      <td>7</td>\n",
       "      <td>7293</td>\n",
       "    </tr>\n",
       "    <tr>\n",
       "      <th>8</th>\n",
       "      <td>8</td>\n",
       "      <td>6825</td>\n",
       "    </tr>\n",
       "    <tr>\n",
       "      <th>9</th>\n",
       "      <td>9</td>\n",
       "      <td>6958</td>\n",
       "    </tr>\n",
       "  </tbody>\n",
       "</table>\n",
       "</div>"
      ],
      "text/plain": [
       "   digit  count\n",
       "0      0   6903\n",
       "1      1   7877\n",
       "2      2   6990\n",
       "3      3   7141\n",
       "4      4   6824\n",
       "5      5   6313\n",
       "6      6   6876\n",
       "7      7   7293\n",
       "8      8   6825\n",
       "9      9   6958"
      ]
     },
     "execution_count": 5,
     "metadata": {},
     "output_type": "execute_result"
    }
   ],
   "source": [
    "# Class distribution\n",
    "pd.DataFrame({'count': np.bincount(all_labels), 'digit': range(10)}, columns=['digit', 'count'])"
   ]
  },
  {
   "cell_type": "code",
   "execution_count": 6,
   "metadata": {},
   "outputs": [
    {
     "name": "stdout",
     "output_type": "stream",
     "text": [
      "1000 train | 100 valid | 100 test\n"
     ]
    }
   ],
   "source": [
    "# Sampling data\n",
    "num_train, num_valid, num_test = 1000, 100, 100\n",
    "num_total = num_train + num_valid + num_test\n",
    "\n",
    "sample_idx = np.random.choice(all_data.shape[0], num_total)\n",
    "(train_idx, valid_idx, test_idx) = (sample_idx[:num_train], \n",
    "                                    sample_idx[num_train:num_train+num_valid],\n",
    "                                    sample_idx[-num_test:])\n",
    "print (\"{} train | {} valid | {} test\".format(len(train_idx), len(valid_idx), len(test_idx)))\n",
    "\n",
    "train_data, train_labels = all_data[train_idx], all_labels[train_idx]\n",
    "valid_data, valid_labels = all_data[valid_idx], all_labels[valid_idx]\n",
    "test_data, test_labels = all_data[test_idx], all_labels[test_idx]"
   ]
  },
  {
   "cell_type": "code",
   "execution_count": 7,
   "metadata": {},
   "outputs": [
    {
     "name": "stdout",
     "output_type": "stream",
     "text": [
      "8\n",
      "1\n",
      "2\n",
      "5\n",
      "7\n"
     ]
    },
    {
     "data": {
      "image/png": "[encoded data removed]",
      "text/plain": [
       "<matplotlib.figure.Figure at 0x1a16fc05c0>"
      ]
     },
     "metadata": {},
     "output_type": "display_data"
    }
   ],
   "source": [
    "# Let's see how the digits look\n",
    "\n",
    "j = 1\n",
    "for i in random.sample(range(0, len(train_data)), 5):\n",
    "    plt.subplot(2, 4, j)\n",
    "    plt.imshow(train_data[i].reshape((28, 28)))\n",
    "    print (train_labels[i])\n",
    "    j += 1\n"
   ]
  },
  {
   "cell_type": "code",
   "execution_count": 8,
   "metadata": {},
   "outputs": [
    {
     "name": "stdout",
     "output_type": "stream",
     "text": [
      "(1000, 784) (1000,)\n"
     ]
    }
   ],
   "source": [
    "print (train_data.shape, train_labels.shape)"
   ]
  },
  {
   "cell_type": "code",
   "execution_count": 9,
   "metadata": {},
   "outputs": [
    {
     "name": "stdout",
     "output_type": "stream",
     "text": [
      "[ 88  95 124 118  99  82  93 103  97 101]\n"
     ]
    }
   ],
   "source": [
    "print (np.bincount(train_labels))"
   ]
  },
  {
   "cell_type": "markdown",
   "metadata": {},
   "source": [
    "## 2. Model - SKLearn "
   ]
  },
  {
   "cell_type": "code",
   "execution_count": 10,
   "metadata": {},
   "outputs": [],
   "source": [
    "# TODO : import correct model from SKLearn\n",
    "# uncomment the following and fix it\n",
    "\n",
    "# import XYZ"
   ]
  },
  {
   "cell_type": "code",
   "execution_count": 11,
   "metadata": {},
   "outputs": [],
   "source": [
    "# TODO : use the correct model with correct hyperparameters\n",
    "# uncomment the following and fix it\n",
    "\n",
    "# model = "
   ]
  },
  {
   "cell_type": "code",
   "execution_count": 12,
   "metadata": {
    "scrolled": true
   },
   "outputs": [],
   "source": [
    "# TODO : train the model with training data\n",
    "# uncomment the following and fix it\n",
    "\n",
    "# model."
   ]
  },
  {
   "cell_type": "markdown",
   "metadata": {},
   "source": [
    "## 3. Feature Coefficients"
   ]
  },
  {
   "cell_type": "code",
   "execution_count": 13,
   "metadata": {},
   "outputs": [],
   "source": [
    "# TODO : print the shape of the learned weights & bias.\n",
    "# uncomment the following and fix it\n",
    "\n",
    "#weight = model.dosomething\n",
    "#bias = model.dosomething\n",
    "\n",
    "#print (\"Weight:\", weight.shape)\n",
    "#print (\"Bias:\", bias.shape)"
   ]
  },
  {
   "cell_type": "code",
   "execution_count": 14,
   "metadata": {},
   "outputs": [],
   "source": [
    "# visualize the weights\n",
    "# uncomment the following \n",
    "\n",
    "#plt.figure()\n",
    "\n",
    "#for ii in range(weight.shape[0]):\n",
    "#    plt.subplot(3, 4, ii+1)\n",
    "#    plt.imshow(weight[ii,:].reshape(28, 28), cmap=cm.gray_r)\n",
    "\n",
    "#plt.show()"
   ]
  },
  {
   "cell_type": "markdown",
   "metadata": {},
   "source": [
    "## 4. Test Learned Weights"
   ]
  },
  {
   "cell_type": "code",
   "execution_count": 15,
   "metadata": {},
   "outputs": [],
   "source": [
    "# TODO : test the learned weights on a validation set\n",
    "# uncomment the following and fix it\n",
    "\n",
    "#valid_pred = do something with model and valid_data\n",
    "\n",
    "#right = np.sum(valid_pred == valid_labels)\n",
    "#acc = right / len(valid_pred)\n",
    "\n",
    "#print (\"Validation accuracy: {}\".format(acc))"
   ]
  },
  {
   "cell_type": "code",
   "execution_count": null,
   "metadata": {},
   "outputs": [],
   "source": []
  }
 ],
 "metadata": {
  "anaconda-cloud": {},
  "kernelspec": {
   "display_name": "Python 3",
   "language": "python",
   "name": "python3"
  },
  "language_info": {
   "codemirror_mode": {
    "name": "ipython",
    "version": 3
   },
   "file_extension": ".py",
   "mimetype": "text/x-python",
   "name": "python",
   "nbconvert_exporter": "python",
   "pygments_lexer": "ipython3",
   "version": "3.6.3"
  }
 },
 "nbformat": 4,
 "nbformat_minor": 1
}
