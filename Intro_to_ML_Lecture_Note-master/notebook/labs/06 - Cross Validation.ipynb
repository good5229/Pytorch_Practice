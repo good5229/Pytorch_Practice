{
 "cells": [
  {
   "cell_type": "markdown",
   "metadata": {},
   "source": [
    "# CSCI-UA 0473 - Introduction to Machine Learning\n",
    "## Wednesday, March 1, 2017"
   ]
  },
  {
   "cell_type": "code",
   "execution_count": 1,
   "metadata": {},
   "outputs": [],
   "source": [
    "import sys\n",
    "import numpy as np\n",
    "from pprint import pprint as pp\n",
    "import random\n",
    "import pandas as pd\n",
    "\n",
    "from sklearn import datasets\n",
    "import matplotlib.pyplot as plt\n",
    "import matplotlib.cm as cm\n",
    "%matplotlib inline\n",
    "\n",
    "#np.random.seed(12345)"
   ]
  },
  {
   "cell_type": "markdown",
   "metadata": {},
   "source": [
    "## 1. Data"
   ]
  },
  {
   "cell_type": "code",
   "execution_count": 2,
   "metadata": {},
   "outputs": [],
   "source": [
    "from sklearn.datasets import fetch_mldata\n",
    "mnist = fetch_mldata('MNIST original', data_home='/Users/jason/Downloads/') # Give an appropriate custom path\n",
    "\n",
    "K = 10\n",
    "D = 784"
   ]
  },
  {
   "cell_type": "code",
   "execution_count": 3,
   "metadata": {},
   "outputs": [
    {
     "name": "stdout",
     "output_type": "stream",
     "text": [
      "70000\n",
      "70000\n"
     ]
    }
   ],
   "source": [
    "print (len(mnist['target']))\n",
    "print (len(mnist['data']))"
   ]
  },
  {
   "cell_type": "code",
   "execution_count": 4,
   "metadata": {},
   "outputs": [],
   "source": [
    "all_data = mnist['data']\n",
    "all_labels = np.array([int(d) for d in mnist['target']])"
   ]
  },
  {
   "cell_type": "code",
   "execution_count": 5,
   "metadata": {},
   "outputs": [
    {
     "data": {
      "text/html": [
       "<div>\n",
       "<style scoped>\n",
       "    .dataframe tbody tr th:only-of-type {\n",
       "        vertical-align: middle;\n",
       "    }\n",
       "\n",
       "    .dataframe tbody tr th {\n",
       "        vertical-align: top;\n",
       "    }\n",
       "\n",
       "    .dataframe thead th {\n",
       "        text-align: right;\n",
       "    }\n",
       "</style>\n",
       "<table border=\"1\" class=\"dataframe\">\n",
       "  <thead>\n",
       "    <tr style=\"text-align: right;\">\n",
       "      <th></th>\n",
       "      <th>digit</th>\n",
       "      <th>count</th>\n",
       "    </tr>\n",
       "  </thead>\n",
       "  <tbody>\n",
       "    <tr>\n",
       "      <th>0</th>\n",
       "      <td>0</td>\n",
       "      <td>6903</td>\n",
       "    </tr>\n",
       "    <tr>\n",
       "      <th>1</th>\n",
       "      <td>1</td>\n",
       "      <td>7877</td>\n",
       "    </tr>\n",
       "    <tr>\n",
       "      <th>2</th>\n",
       "      <td>2</td>\n",
       "      <td>6990</td>\n",
       "    </tr>\n",
       "    <tr>\n",
       "      <th>3</th>\n",
       "      <td>3</td>\n",
       "      <td>7141</td>\n",
       "    </tr>\n",
       "    <tr>\n",
       "      <th>4</th>\n",
       "      <td>4</td>\n",
       "      <td>6824</td>\n",
       "    </tr>\n",
       "    <tr>\n",
       "      <th>5</th>\n",
       "      <td>5</td>\n",
       "      <td>6313</td>\n",
       "    </tr>\n",
       "    <tr>\n",
       "      <th>6</th>\n",
       "      <td>6</td>\n",
       "      <td>6876</td>\n",
       "    </tr>\n",
       "    <tr>\n",
       "      <th>7</th>\n",
       "      <td>7</td>\n",
       "      <td>7293</td>\n",
       "    </tr>\n",
       "    <tr>\n",
       "      <th>8</th>\n",
       "      <td>8</td>\n",
       "      <td>6825</td>\n",
       "    </tr>\n",
       "    <tr>\n",
       "      <th>9</th>\n",
       "      <td>9</td>\n",
       "      <td>6958</td>\n",
       "    </tr>\n",
       "  </tbody>\n",
       "</table>\n",
       "</div>"
      ],
      "text/plain": [
       "   digit  count\n",
       "0      0   6903\n",
       "1      1   7877\n",
       "2      2   6990\n",
       "3      3   7141\n",
       "4      4   6824\n",
       "5      5   6313\n",
       "6      6   6876\n",
       "7      7   7293\n",
       "8      8   6825\n",
       "9      9   6958"
      ]
     },
     "execution_count": 5,
     "metadata": {},
     "output_type": "execute_result"
    }
   ],
   "source": [
    "# Class distribution\n",
    "pd.DataFrame({'count': np.bincount(all_labels), 'digit': range(10)}, columns=['digit', 'count'])"
   ]
  },
  {
   "cell_type": "code",
   "execution_count": 6,
   "metadata": {},
   "outputs": [],
   "source": [
    "def x_tilde(x):\n",
    "    (batch_size, D) = x.shape\n",
    "    data_tilde = np.concatenate([x, np.ones( (batch_size,1) )], axis=1)\n",
    "    assert data_tilde.shape[1] == D+1\n",
    "    return data_tilde\n",
    "\n",
    "# Sampling data\n",
    "num_total = 1000 # to be split into train & valid (assume we have a separate test set)\n",
    "\n",
    "sample_idx = np.random.choice(all_data.shape[0], num_total)\n",
    "\n",
    "data, labels = all_data[sample_idx], all_labels[sample_idx]\n",
    "data_tilde = x_tilde(data)"
   ]
  },
  {
   "cell_type": "code",
   "execution_count": 7,
   "metadata": {},
   "outputs": [
    {
     "name": "stdout",
     "output_type": "stream",
     "text": [
      "7\n",
      "2\n",
      "3\n",
      "9\n",
      "1\n"
     ]
    },
    {
     "data": {
      "image/png": "[encoded data removed]",
      "text/plain": [
       "<matplotlib.figure.Figure at 0x118420588>"
      ]
     },
     "metadata": {},
     "output_type": "display_data"
    }
   ],
   "source": [
    "# Let's see how the digits look\n",
    "\n",
    "j = 1\n",
    "for i in random.sample(range(0, len(data)), 5):\n",
    "    plt.subplot(2, 4, j)\n",
    "    plt.imshow(data[i].reshape((28, 28)))\n",
    "    print (labels[i])\n",
    "    j += 1"
   ]
  },
  {
   "cell_type": "code",
   "execution_count": 8,
   "metadata": {},
   "outputs": [
    {
     "name": "stdout",
     "output_type": "stream",
     "text": [
      "(1000, 785) (1000,)\n"
     ]
    }
   ],
   "source": [
    "print (data_tilde.shape, labels.shape)"
   ]
  },
  {
   "cell_type": "code",
   "execution_count": 9,
   "metadata": {},
   "outputs": [
    {
     "name": "stdout",
     "output_type": "stream",
     "text": [
      "[ 88  95 124 118  99  82  93 103  97 101]\n"
     ]
    }
   ],
   "source": [
    "print (np.bincount(labels))"
   ]
  },
  {
   "cell_type": "markdown",
   "metadata": {},
   "source": [
    "## 2. Model definition"
   ]
  },
  {
   "cell_type": "code",
   "execution_count": 10,
   "metadata": {},
   "outputs": [],
   "source": [
    "def get_logits(w, data):\n",
    "    # data : (batch_size, D)\n",
    "    # w : (K, D)\n",
    "    (K,D) = w.shape\n",
    "    logits = np.matmul(data, np.transpose(w)) / D # (batch_size, K)\n",
    "    return logits\n",
    "\n",
    "def softmax(logits):\n",
    "    # logits : (batch_size, K)\n",
    "    logits_exp = np.exp(logits)\n",
    "    all_probs = logits_exp / (np.sum(logits_exp, 1)[:,None]) # (batch_size, K)\n",
    "    return all_probs"
   ]
  },
  {
   "cell_type": "code",
   "execution_count": 11,
   "metadata": {},
   "outputs": [],
   "source": [
    "def eval_model(logits, labels):\n",
    "    (batch_size, K) = logits.shape\n",
    "    y_pred = np.argmax(logits, 1)\n",
    "    right = np.sum(y_pred == labels)\n",
    "    acc = right / batch_size\n",
    "    return acc\n",
    "    #print (\"Accuracy : {:.2f}\".format( right / batch_size ))\n",
    "\n",
    "def eval_on_dataset(w, data, labels):\n",
    "    (num_points, _) = data.shape\n",
    "    logits = get_logits(w, data)\n",
    "    all_probs = softmax(logits)\n",
    "    prob = all_probs[np.arange(num_points), labels]\n",
    "\n",
    "    cost = np.mean(distance(prob))\n",
    "    acc = eval_model(logits, labels)\n",
    "    return cost, acc"
   ]
  },
  {
   "cell_type": "code",
   "execution_count": 12,
   "metadata": {},
   "outputs": [],
   "source": [
    "def distance(prob): # Negative Log Likelihood\n",
    "    log_prob = np.log(prob + 1e-9)\n",
    "    return -log_prob"
   ]
  },
  {
   "cell_type": "code",
   "execution_count": 13,
   "metadata": {},
   "outputs": [],
   "source": [
    "def one_hot(batch_size, k, labels):\n",
    "    output = np.zeros((batch_size, k))\n",
    "    output[np.arange(batch_size), labels] = 1\n",
    "    return output\n",
    "\n",
    "def gradient(all_probs, data, labels):\n",
    "    (batch_size, K) = all_probs.shape\n",
    "    y_star = one_hot(batch_size, K, labels)\n",
    "    grad = -1 * np.matmul( np.transpose(y_star - all_probs), data)\n",
    "    # y_star - all_probs : (batch_size, K)\n",
    "    # data : (batch_size, D+1)\n",
    "    # grad : (K, D+1)\n",
    "    return grad / batch_size"
   ]
  },
  {
   "cell_type": "code",
   "execution_count": 14,
   "metadata": {},
   "outputs": [
    {
     "name": "stdout",
     "output_type": "stream",
     "text": [
      "Fold 1 converged\n",
      "Fold 2 converged\n",
      "Fold 3 converged\n",
      "Fold 4 converged\n",
      "Fold 5 converged\n",
      "Fold 6 converged\n",
      "Fold 7 converged\n",
      "Fold 8 converged\n",
      "Fold 9 converged\n",
      "Fold 10 converged\n",
      "Average valid cost: 1.94968200689\n"
     ]
    }
   ],
   "source": [
    "n_epochs = 500\n",
    "batch_size = 100\n",
    "lr0 = 0.1\n",
    "lrf = 0.001\n",
    "anneal_over = 30\n",
    "patience = 5\n",
    "improvement = 0.999\n",
    "num_folds = 10\n",
    "fold_size = int(len(data_tilde) / 10)\n",
    "\n",
    "for each_fold in range(num_folds):\n",
    "    w0 = np.random.normal(loc=0.0, scale=1.0, size=(K, D+1))\n",
    "    w = np.copy(w0)\n",
    "    valid_start = each_fold * fold_size\n",
    "    valid_end = (each_fold+1) * fold_size\n",
    "    \n",
    "    valid_data_tilde = data_tilde[valid_start : valid_end, :]\n",
    "    valid_labels = labels[valid_start : valid_end]\n",
    "    \n",
    "    train_data_tilde = np.concatenate( [ data_tilde[: valid_start, :], data_tilde[valid_end :, :]], axis=0 )\n",
    "    train_labels = np.concatenate( [ labels[: valid_start], labels[valid_end :] ], axis=0)\n",
    "\n",
    "    best_w, best_e = None, None\n",
    "    old_cost = np.Inf\n",
    "    val_costs = []\n",
    "    for e_idx in range(n_epochs):\n",
    "\n",
    "        for b_idx in range(int((len(data)-fold_size)/batch_size)):\n",
    "            lr = max(lrf, lr0 + (lrf - lr0) * (e_idx / anneal_over) )\n",
    "            #lr = lr0\n",
    "\n",
    "            tr_data = train_data_tilde[b_idx * batch_size : (b_idx+1) * batch_size]\n",
    "            tr_label = train_labels[b_idx * batch_size : (b_idx+1) * batch_size]\n",
    "\n",
    "            logits = get_logits(w, tr_data)\n",
    "\n",
    "            all_probs = softmax(logits)\n",
    "            prob = all_probs[np.arange(batch_size), tr_label]\n",
    "\n",
    "            cost = np.mean(distance(prob))\n",
    "            grad = gradient(all_probs, tr_data, tr_label)\n",
    "\n",
    "            w -= lr * grad\n",
    "\n",
    "        val_cost, val_acc = eval_on_dataset(w, valid_data_tilde, valid_labels)\n",
    "        #print ('epoch {:4d} : lr {:.4f} acc {:.4f} | cost {:.5f}'.format(e_idx, lr, val_acc, val_cost))\n",
    "\n",
    "        if val_cost / old_cost <= improvement:\n",
    "            best_w = w\n",
    "            best_cost = val_cost\n",
    "            best_e = e_idx\n",
    "        else:\n",
    "            print ('Fold {} converged'.format(each_fold + 1))\n",
    "            val_costs.append(val_cost)\n",
    "            break\n",
    "\n",
    "        old_cost = val_cost        \n",
    "\n",
    "print (\"Average valid cost:\", np.mean(val_costs))"
   ]
  },
  {
   "cell_type": "markdown",
   "metadata": {},
   "source": [
    "## 3. Feature Coefficients"
   ]
  },
  {
   "cell_type": "code",
   "execution_count": 15,
   "metadata": {},
   "outputs": [
    {
     "data": {
      "text/plain": [
       "(10, 785)"
      ]
     },
     "execution_count": 15,
     "metadata": {},
     "output_type": "execute_result"
    }
   ],
   "source": [
    "# Shape of the coefficients learned by Logistic Regression\n",
    "\n",
    "w.shape"
   ]
  },
  {
   "cell_type": "code",
   "execution_count": 16,
   "metadata": {},
   "outputs": [
    {
     "data": {
      "image/png": "[encoded data removed]",
      "text/plain": [
       "<matplotlib.figure.Figure at 0x11068aac8>"
      ]
     },
     "metadata": {},
     "output_type": "display_data"
    }
   ],
   "source": [
    "plt.figure()\n",
    "\n",
    "for ii in range(w.shape[0]):\n",
    "    plt.subplot(3, 4, ii+1)\n",
    "    plt.imshow(w[ii,:-1].reshape(28, 28), cmap=cm.gray_r)\n",
    "\n",
    "plt.show()"
   ]
  },
  {
   "cell_type": "code",
   "execution_count": null,
   "metadata": {},
   "outputs": [],
   "source": []
  }
 ],
 "metadata": {
  "anaconda-cloud": {},
  "kernelspec": {
   "display_name": "Python 3",
   "language": "python",
   "name": "python3"
  },
  "language_info": {
   "codemirror_mode": {
    "name": "ipython",
    "version": 3
   },
   "file_extension": ".py",
   "mimetype": "text/x-python",
   "name": "python",
   "nbconvert_exporter": "python",
   "pygments_lexer": "ipython3",
   "version": "3.6.3"
  }
 },
 "nbformat": 4,
 "nbformat_minor": 1
}
