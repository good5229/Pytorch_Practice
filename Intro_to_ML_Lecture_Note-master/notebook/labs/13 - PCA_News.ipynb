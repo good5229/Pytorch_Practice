{
 "cells": [
  {
   "cell_type": "markdown",
   "metadata": {},
   "source": [
    "# CSCI-UA 0473 - Introduction to Machine Learning\n",
    "## Wednesday, April 11, 2018"
   ]
  },
  {
   "cell_type": "code",
   "execution_count": 1,
   "metadata": {},
   "outputs": [],
   "source": [
    "import numpy as np\n",
    "import matplotlib.pyplot as plt\n",
    "from scipy import linalg\n",
    "from scipy.sparse import diags\n",
    "%matplotlib inline\n",
    "\n",
    "from sklearn import datasets\n",
    "from sklearn.feature_extraction.text import TfidfVectorizer, CountVectorizer\n",
    "\n",
    "import autograd\n",
    "import autograd.numpy as numpy\n",
    "import autograd.numpy.random as npr\n",
    "\n",
    "from autograd import grad\n",
    "\n",
    "import scipy.optimize"
   ]
  },
  {
   "cell_type": "markdown",
   "metadata": {},
   "source": [
    "## 1. Data"
   ]
  },
  {
   "cell_type": "code",
   "execution_count": 2,
   "metadata": {},
   "outputs": [],
   "source": [
    "newsgroups_train = datasets.fetch_20newsgroups(subset='train', \n",
    "                                               categories=['comp.sys.mac.hardware', 'rec.motorcycles', 'sci.med', 'soc.religion.christian'])"
   ]
  },
  {
   "cell_type": "code",
   "execution_count": 3,
   "metadata": {},
   "outputs": [],
   "source": [
    "tfidf_vectorizer = TfidfVectorizer(min_df=30)\n",
    "X = tfidf_vectorizer.fit_transform(newsgroups_train.data).toarray()\n",
    "y = newsgroups_train.target"
   ]
  },
  {
   "cell_type": "code",
   "execution_count": 4,
   "metadata": {},
   "outputs": [
    {
     "name": "stdout",
     "output_type": "stream",
     "text": [
      "d 1771\n",
      "N 2369\n",
      "q 2\n"
     ]
    }
   ],
   "source": [
    "X = np.transpose(X)\n",
    "\n",
    "def normalize(data):\n",
    "    mean = np.mean(data, axis=1)[:,None]\n",
    "    return data - mean\n",
    "\n",
    "X = normalize(X)\n",
    "\n",
    "(d, N) = X.shape\n",
    "q = 2\n",
    "\n",
    "print (\"d\",  d)\n",
    "print (\"N\", N)\n",
    "print (\"q\", q)"
   ]
  },
  {
   "cell_type": "code",
   "execution_count": 5,
   "metadata": {},
   "outputs": [],
   "source": [
    "choose_which = \"sgd\"\n",
    "# \"compute_c\", \"svd\", \"sgd\""
   ]
  },
  {
   "cell_type": "code",
   "execution_count": 6,
   "metadata": {},
   "outputs": [
    {
     "name": "stdout",
     "output_type": "stream",
     "text": [
      "start optimising...\n",
      "W     (Norm | Max | Min) : (34.62141977 | 0.99993975 | 0.00026004)\n",
      "WW^T (Diff | Norm) : (-0.50786733, 0.50843198)\n",
      "optimisation finished\n",
      "W     (Norm | Max | Min) : (1.41421367 | 0.29970575 | -0.38748454)\n",
      "WW^T (Diff | Norm) : (0.00053353, 0.00003113)\n"
     ]
    }
   ],
   "source": [
    "if choose_which == \"compute_c\":\n",
    "    e_vec, S, V = linalg.svd(X)\n",
    "    print (\"X\", X.shape)\n",
    "    print (\"e_vec\", e_vec.shape)\n",
    "    print (\"S\", S.shape) \n",
    "    print (\"V\", V.shape)\n",
    "    \n",
    "    #Sig = np.diag(S * S)\n",
    "    #print (Sig.shape)\n",
    "    #C = W * Sig * np.transpose(W)\n",
    "    \n",
    "elif choose_which == \"svd\":\n",
    "    C = X @ np.transpose(X)\n",
    "    e_val, e_vec = np.linalg.eig(C)\n",
    "    e_vec = autograd.numpy.real( e_vec )\n",
    "    \n",
    "    print (\"C\", C.shape)\n",
    "    print (\"e_val\", e_val.shape)\n",
    "    print (\"e_vec\", e_vec.shape)\n",
    "    \n",
    "elif choose_which == \"sgd\":\n",
    "    \n",
    "    def print_diff(W):\n",
    "        W2 = W @ np.transpose(W)\n",
    "        dd = np.mean(np.identity(d) - W2)\n",
    "        norm = np.mean(W2)\n",
    "        print (\"W     (Norm | Max | Min) : ({:.8f} | {:.8f} | {:.8f})\".format(np.linalg.norm(W), np.max(W), np.min(W)))\n",
    "        print (\"WW^T (Diff | Norm) : ({:.8f}, {:.8f})\".format(dd, norm) )\n",
    "    \n",
    "    def dist(W, X, d, q):\n",
    "        W = W.reshape(d, q)\n",
    "        dd = X - W @ autograd.numpy.transpose(W) @ X\n",
    "        norm = autograd.numpy.linalg.norm( dd )\n",
    "        return norm * norm\n",
    "    \n",
    "    #maxiter = 100\n",
    "    e_vec = autograd.numpy.real( autograd.numpy.random.rand(d,q) )\n",
    "    print ('start optimising...')\n",
    "    print_diff(e_vec)\n",
    "    trained_model = scipy.optimize.minimize(dist, e_vec, (X, d, q), method='CG', jac=grad(dist))\n",
    "    #trained_model = scipy.optimize.minimize(dist, e_vec, (X, d, q), method='CG', jac=grad(dist), options={'maxiter':maxiter})\n",
    "    print ('optimisation finished')\n",
    "    e_vec = trained_model.x.reshape(d,q)\n",
    "    print_diff(e_vec)\n",
    "    "
   ]
  },
  {
   "cell_type": "code",
   "execution_count": 7,
   "metadata": {},
   "outputs": [
    {
     "name": "stdout",
     "output_type": "stream",
     "text": [
      "(2369, 2)\n"
     ]
    }
   ],
   "source": [
    "top_e_vec = np.transpose(e_vec[:,:q])\n",
    "\n",
    "Z = np.transpose(np.matmul(top_e_vec, X))\n",
    "print (Z.shape)\n",
    "X_reduced = Z"
   ]
  },
  {
   "cell_type": "markdown",
   "metadata": {},
   "source": [
    "## 2. PCA - Principal Components Analysis"
   ]
  },
  {
   "cell_type": "code",
   "execution_count": 8,
   "metadata": {},
   "outputs": [
    {
     "name": "stdout",
     "output_type": "stream",
     "text": [
      "Original Shape:  (1771, 2369)\n",
      "Reduced Shape:  (2369, 2)\n"
     ]
    }
   ],
   "source": [
    "print ('Original Shape: ', X.shape)\n",
    "print ('Reduced Shape: ', X_reduced.shape)"
   ]
  },
  {
   "cell_type": "markdown",
   "metadata": {},
   "source": [
    "## 3. Visualizing the reduced data points"
   ]
  },
  {
   "cell_type": "code",
   "execution_count": 9,
   "metadata": {
    "scrolled": false
   },
   "outputs": [
    {
     "data": {
      "text/plain": [
       "<matplotlib.colorbar.Colorbar at 0x10a3b2518>"
      ]
     },
     "execution_count": 9,
     "metadata": {},
     "output_type": "execute_result"
    },
    {
     "data": {
      "image/png": "[encoded data removed]",
      "text/plain": [
       "<matplotlib.figure.Figure at 0x102ffeeb8>"
      ]
     },
     "metadata": {},
     "output_type": "display_data"
    }
   ],
   "source": [
    "plt.figure(figsize=(8, 6))\n",
    "plt.scatter(X_reduced[:, 0], X_reduced[:, 1], c = y)\n",
    "plt.colorbar()"
   ]
  },
  {
   "cell_type": "markdown",
   "metadata": {},
   "source": [
    "## 4. Analysis"
   ]
  },
  {
   "cell_type": "code",
   "execution_count": 11,
   "metadata": {},
   "outputs": [],
   "source": [
    "principal_components = top_e_vec"
   ]
  },
  {
   "cell_type": "code",
   "execution_count": 12,
   "metadata": {},
   "outputs": [
    {
     "name": "stdout",
     "output_type": "stream",
     "text": [
      "-0.0075180524402307285\n"
     ]
    }
   ],
   "source": [
    "# What will be the shape of principal_components?\n",
    "\n",
    "principal_components.shape"
   ]
  },
  {
   "cell_type": "code",
   "execution_count": 13,
   "metadata": {},
   "outputs": [
    {
     "name": "stdout",
     "output_type": "stream",
     "text": [
      "Top 10 most activated words (loadings)\n",
      "chastity (0.093889)\n",
      "cadre (0.093922)\n",
      "shameful (0.093922)\n",
      "dsl (0.093922)\n",
      "edu (0.157134)\n",
      "cs (0.167274)\n",
      "gordon (0.268562)\n",
      "banks (0.272811)\n",
      "geb (0.274527)\n",
      "pitt (0.298882)\n",
      "\n",
      " Top 10 least activated words (loadings)\n",
      "the (-0.387485)\n",
      "that (-0.165774)\n",
      "of (-0.164230)\n",
      "to (-0.146735)\n",
      "and (-0.136076)\n",
      "god (-0.127635)\n",
      "he (-0.092942)\n",
      "we (-0.091938)\n",
      "in (-0.086941)\n",
      "you (-0.084801)\n"
     ]
    }
   ],
   "source": [
    "invocab = dict([(vv,kk) for kk, vv in tfidf_vectorizer.vocabulary_.items()])\n",
    "insens_idx = np.argsort(principal_components[0])\n",
    "\n",
    "print ('Top 10 most activated words (loadings)')\n",
    "for jj in insens_idx[-10:]:\n",
    "    print ('{} ({:0.6f})'.format(invocab[jj], principal_components[0,jj]))\n",
    "           \n",
    "    \n",
    "print ('\\n Top 10 least activated words (loadings)')\n",
    "for jj in insens_idx[:10]:\n",
    "    print ('{} ({:0.6f})'.format(invocab[jj], principal_components[0,jj]))"
   ]
  },
  {
   "cell_type": "code",
   "execution_count": 14,
   "metadata": {},
   "outputs": [
    {
     "name": "stdout",
     "output_type": "stream",
     "text": [
      "Top 10 most activated words (loadings)\n",
      "cs (0.152114)\n",
      "that (0.167588)\n",
      "to (0.185040)\n",
      "is (0.210192)\n",
      "of (0.223932)\n",
      "gordon (0.263949)\n",
      "banks (0.268891)\n",
      "geb (0.269696)\n",
      "pitt (0.290998)\n",
      "the (0.299706)\n",
      "\n",
      " Top 10 least activated words (loadings)\n",
      "nntp (-0.075911)\n",
      "com (-0.075701)\n",
      "host (-0.074763)\n",
      "posting (-0.073378)\n",
      "mac (-0.064723)\n",
      "ca (-0.055375)\n",
      "apple (-0.052147)\n",
      "thanks (-0.050950)\n",
      "bike (-0.049733)\n",
      "university (-0.042897)\n"
     ]
    }
   ],
   "source": [
    "invocab = dict([(vv,kk) for kk, vv in tfidf_vectorizer.vocabulary_.items()])\n",
    "insens_idx = np.argsort(principal_components[1])\n",
    "\n",
    "print ('Top 10 most activated words (loadings)')\n",
    "for jj in insens_idx[-10:]:\n",
    "    print ('{} ({:0.6f})'.format(invocab[jj], principal_components[1,jj]))\n",
    "    \n",
    "    \n",
    "print ('\\n Top 10 least activated words (loadings)')\n",
    "for jj in insens_idx[:10]:\n",
    "    print ('{} ({:0.6f})'.format(invocab[jj], principal_components[1,jj]))"
   ]
  }
 ],
 "metadata": {
  "kernelspec": {
   "display_name": "Python 3",
   "language": "python",
   "name": "python3"
  },
  "language_info": {
   "codemirror_mode": {
    "name": "ipython",
    "version": 3
   },
   "file_extension": ".py",
   "mimetype": "text/x-python",
   "name": "python",
   "nbconvert_exporter": "python",
   "pygments_lexer": "ipython3",
   "version": "3.6.3"
  }
 },
 "nbformat": 4,
 "nbformat_minor": 1
}
