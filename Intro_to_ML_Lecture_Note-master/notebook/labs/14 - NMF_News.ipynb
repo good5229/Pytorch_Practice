{
 "cells": [
  {
   "cell_type": "markdown",
   "metadata": {},
   "source": [
    "# CSCI-UA 0473 - Introduction to Machine Learning\n",
    "## Wednesday, April 11, 2018"
   ]
  },
  {
   "cell_type": "code",
   "execution_count": 1,
   "metadata": {},
   "outputs": [],
   "source": [
    "import numpy as np\n",
    "import matplotlib.pyplot as plt\n",
    "from scipy import linalg\n",
    "from scipy.sparse import diags\n",
    "%matplotlib inline\n",
    "\n",
    "from sklearn import datasets\n",
    "from sklearn.feature_extraction.text import TfidfVectorizer, CountVectorizer\n",
    "\n",
    "import autograd\n",
    "import autograd.numpy as numpy\n",
    "import autograd.numpy.random as npr\n",
    "\n",
    "from autograd import grad\n",
    "\n",
    "import scipy.optimize"
   ]
  },
  {
   "cell_type": "markdown",
   "metadata": {},
   "source": [
    "## 1. Data"
   ]
  },
  {
   "cell_type": "code",
   "execution_count": 2,
   "metadata": {},
   "outputs": [],
   "source": [
    "newsgroups_train = datasets.fetch_20newsgroups(subset='train', \n",
    "                                               categories=['comp.sys.mac.hardware', 'rec.motorcycles', 'sci.med', 'soc.religion.christian'])"
   ]
  },
  {
   "cell_type": "code",
   "execution_count": 3,
   "metadata": {},
   "outputs": [
    {
     "name": "stdout",
     "output_type": "stream",
     "text": [
      "(2369, 1529)\n"
     ]
    }
   ],
   "source": [
    "tfidf_vectorizer = TfidfVectorizer(min_df=30, stop_words='english')\n",
    "X = tfidf_vectorizer.fit_transform(newsgroups_train.data).toarray()\n",
    "y = newsgroups_train.target\n",
    "print (X.shape)"
   ]
  },
  {
   "cell_type": "code",
   "execution_count": 4,
   "metadata": {},
   "outputs": [
    {
     "name": "stdout",
     "output_type": "stream",
     "text": [
      "d 1529\n",
      "N 2369\n",
      "q 10\n",
      "X (1529, 2369)\n",
      "W (1529, 10)\n",
      "Z (10, 2369)\n"
     ]
    }
   ],
   "source": [
    "X = np.transpose(X)\n",
    "\n",
    "def normalize(data):\n",
    "    mean = np.mean(data, axis=1)[:,None]\n",
    "    return data - mean\n",
    "\n",
    "(d, N) = X.shape\n",
    "q = 10\n",
    "\n",
    "print (\"d\",  d)\n",
    "print (\"N\", N)\n",
    "print (\"q\", q)\n",
    "\n",
    "print (\"X\", (d, N))\n",
    "print (\"W\", (d, q))\n",
    "print (\"Z\", (q, N))\n",
    "# X : (d, N)\n",
    "# W : (d, q)\n",
    "# Z : (q, N)"
   ]
  },
  {
   "cell_type": "code",
   "execution_count": 5,
   "metadata": {},
   "outputs": [],
   "source": [
    "choose_which = \"nmf\"\n",
    "# \"compute_c\", \"svd\", \"sgd\", \"nmf\""
   ]
  },
  {
   "cell_type": "code",
   "execution_count": 6,
   "metadata": {},
   "outputs": [],
   "source": [
    "if choose_which == \"nmf\":\n",
    "    X = X - np.min(X)\n",
    "else:\n",
    "    X = normalize(X)"
   ]
  },
  {
   "cell_type": "code",
   "execution_count": 7,
   "metadata": {},
   "outputs": [
    {
     "name": "stdout",
     "output_type": "stream",
     "text": [
      "start optimising...\n",
      "1223.9787903452484\n",
      "45.538633308831386\n",
      "45.52380319322538\n",
      "45.5212356607746\n",
      "45.52056434407838\n",
      "45.52017594628473\n",
      "45.5200018614657\n",
      "45.519939379213945\n",
      "45.519910037161814\n",
      "45.51988334186786\n",
      "45.51986330321748\n",
      "45.51984376557059\n",
      "45.51981781545874\n",
      "45.51976578333468\n",
      "45.519464992568835\n",
      "45.511382883004664\n",
      "45.50856012227915\n",
      "45.507026154399114\n",
      "45.505961820190365\n",
      "45.50529842299815\n",
      "optimisation finished\n"
     ]
    }
   ],
   "source": [
    "if choose_which == \"svd\":\n",
    "    W, S, V = linalg.svd(X)\n",
    "    print (\"X\", X.shape)\n",
    "    print (\"W\", W.shape)\n",
    "    print (\"S\", S.shape) \n",
    "    print (\"V\", V.shape)\n",
    "    \n",
    "    #Sig = np.diag(S * S)\n",
    "    #print (Sig.shape)\n",
    "    #C = W * Sig * np.transpose(W)\n",
    "    \n",
    "elif choose_which == \"compute_c\":    \n",
    "    C = X @ np.transpose(X)\n",
    "    e_val, W = np.linalg.eig(C)\n",
    "    W = autograd.numpy.real( W )\n",
    "    \n",
    "    print (\"C\", C.shape)\n",
    "    print (\"e_val\", e_val.shape)\n",
    "    print (\"W\", W.shape)\n",
    "    \n",
    "elif choose_which == \"sgd\":\n",
    "    def print_diff(W):\n",
    "        W2 = W @ np.transpose(W)\n",
    "        dd = np.mean(np.identity(d) - W2)\n",
    "        norm = np.mean(W2)\n",
    "        print (\"W     (Norm | Max | Min) : ({:.8f} | {:.8f} | {:.8f})\".format(np.linalg.norm(W), np.max(W), np.min(W)))\n",
    "        print (\"WW^T (Diff | Norm) : ({:.8f}, {:.8f})\".format(dd, norm) )\n",
    "    \n",
    "    def dist(W, X, d, q):\n",
    "        W = W.reshape(d, q)\n",
    "        dd = X - W @ autograd.numpy.transpose(W) @ X\n",
    "        norm = autograd.numpy.linalg.norm( dd )\n",
    "        return norm * norm\n",
    "    \n",
    "    #maxiter = 100\n",
    "    W = autograd.numpy.real( autograd.numpy.random.rand(d,q) )\n",
    "    print ('start optimising...')\n",
    "    print_diff(W)\n",
    "    trained_model = scipy.optimize.minimize(dist, W, (X, d, q), method='CG', jac=grad(dist))\n",
    "    #trained_model = scipy.optimize.minimize(dist, W, (X, d, q), method='CG', jac=grad(dist), options={'maxiter':maxiter})\n",
    "    print ('optimisation finished')\n",
    "    W = trained_model.x.reshape(d,q)\n",
    "    print_diff(W)\n",
    "    \n",
    "elif choose_which == \"nmf\":    \n",
    "    multiplicative = True\n",
    "    maxiter = 1000\n",
    "    W = np.real( (np.random.rand(d,q))*0.5 )\n",
    "    Z = np.real( (np.random.rand(q,N))*0.5 )\n",
    "    print ('start optimising...')\n",
    "    # X : (d, N)\n",
    "    # W : (d, q)\n",
    "    # Z : (q, N)        \n",
    "    for u_iter in range(maxiter):\n",
    "        if multiplicative:\n",
    "            diff = X - W @ Z\n",
    "            Z = Z * (np.transpose(W) @ X) / (np.transpose(W) @ W @ Z)\n",
    "            W = W * (X @ np.transpose(Z)) / (W @ Z @ np.transpose(Z))\n",
    "\n",
    "        else:\n",
    "            lr = 0.0001\n",
    "            W_ = W + lr * (diff) @ np.transpose(Z)\n",
    "            Z_ = Z + lr * np.transpose(W) @ (diff)       \n",
    "\n",
    "            W, Z = np.maximum(W_, 0, W_), np.maximum(Z_, 0, Z_)\n",
    "\n",
    "        if u_iter % 50 == 0:\n",
    "            print (autograd.numpy.linalg.norm(diff))\n",
    "        \n",
    "    print ('optimisation finished')\n"
   ]
  },
  {
   "cell_type": "code",
   "execution_count": 8,
   "metadata": {},
   "outputs": [],
   "source": [
    "# X : (d, N)\n",
    "# W : (d, q)\n",
    "# Z : (q, N)\n",
    "\n",
    "W_q = np.transpose(W[:,:q])\n",
    "# (q, d)\n",
    "\n",
    "if choose_which == \"nmf\":\n",
    "    Z = np.transpose(Z)\n",
    "    #Z = np.transpose(np.matmul(W_q, X))\n",
    "else:\n",
    "    Z = np.transpose(np.matmul(W_q, X))"
   ]
  },
  {
   "cell_type": "markdown",
   "metadata": {},
   "source": [
    "## 2. PCA - Principal Components Analysis"
   ]
  },
  {
   "cell_type": "code",
   "execution_count": 9,
   "metadata": {},
   "outputs": [
    {
     "name": "stdout",
     "output_type": "stream",
     "text": [
      "Original Shape:  (1529, 2369)\n",
      "Reduced Shape:  (2369, 10)\n"
     ]
    }
   ],
   "source": [
    "print ('Original Shape: ', X.shape)\n",
    "print ('Reduced Shape: ', Z.shape)"
   ]
  },
  {
   "cell_type": "markdown",
   "metadata": {},
   "source": [
    "## 3. Visualizing the reduced data points"
   ]
  },
  {
   "cell_type": "code",
   "execution_count": 55,
   "metadata": {
    "scrolled": false
   },
   "outputs": [
    {
     "data": {
      "text/plain": [
       "<matplotlib.colorbar.Colorbar at 0x1a1242fa20>"
      ]
     },
     "execution_count": 55,
     "metadata": {},
     "output_type": "execute_result"
    },
    {
     "data": {
      "image/png": "[encoded data removed]",
      "text/plain": [
       "<matplotlib.figure.Figure at 0x1a10ff2390>"
      ]
     },
     "metadata": {},
     "output_type": "display_data"
    }
   ],
   "source": [
    "plt.figure(figsize=(12, 8))\n",
    "plt.scatter(Z[:, 0], Z[:, 8], c = y)\n",
    "plt.colorbar()"
   ]
  },
  {
   "cell_type": "markdown",
   "metadata": {},
   "source": [
    "## 4. Analysis"
   ]
  },
  {
   "cell_type": "code",
   "execution_count": 17,
   "metadata": {},
   "outputs": [
    {
     "name": "stdout",
     "output_type": "stream",
     "text": [
      "TOPIC 0\n",
      "simms university monitor host nntp posting se mac apple edu\n",
      "\n",
      "TOPIC 1\n",
      "cd quadra internal hard apple disk drives mac scsi drive\n",
      "\n",
      "TOPIC 2\n",
      "aisun3 programs edu athens mcovingt covington michael uga georgia ai\n",
      "\n",
      "TOPIC 3\n",
      "posting hp ed nec behanna east writes article sun com\n",
      "\n",
      "TOPIC 4\n",
      "chastity shameful dsl cadre edu cs gordon banks geb pitt\n",
      "\n",
      "TOPIC 5\n",
      "reaction foods steve berkeley dyer superstition chinese sensitivity food msg\n",
      "\n",
      "TOPIC 6\n",
      "dog riding bmw edu ride uk dod bnr ca bike\n",
      "\n",
      "TOPIC 7\n",
      "people don know patients time medical science doctor disease edu\n",
      "\n",
      "TOPIC 8\n",
      "believe edu people christianity bible truth jesus christian christians church\n",
      "\n",
      "TOPIC 9\n",
      "faith believe life lord christ heaven sin jesus hell god\n",
      "\n"
     ]
    }
   ],
   "source": [
    "invocab = dict([(vv,kk) for kk, vv in tfidf_vectorizer.vocabulary_.items()])\n",
    "\n",
    "for i in range(q):\n",
    "    insens_idx = np.argsort(W_q[i])\n",
    "\n",
    "    print ('TOPIC ' + str(i))\n",
    "    print (' '.join([invocab[w_ix] for w_ix in insens_idx[-10:]]) + '\\n')"
   ]
  },
  {
   "cell_type": "code",
   "execution_count": 45,
   "metadata": {},
   "outputs": [
    {
     "name": "stdout",
     "output_type": "stream",
     "text": [
      "Category comp.sys.mac.hardware | Topics 0, 1\n",
      "Category rec.motorcycles | Topics 3, 6\n",
      "Category sci.med | Topics 7\n",
      "Category soc.religion.christian | Topics 8, 9\n"
     ]
    }
   ],
   "source": [
    "# Z : (N, q)\n",
    "# y : N\n",
    "res = [[], [], [], []]\n",
    "for idx in range(N):\n",
    "    yy = y[idx]\n",
    "    res[yy].append( Z[idx] )\n",
    "    \n",
    "cats = ['comp.sys.mac.hardware', 'rec.motorcycles', 'sci.med', 'soc.religion.christian']\n",
    "qq = np.array(range(q))\n",
    "    \n",
    "res = np.array([np.mean(np.array(x), axis=0) for x in res])\n",
    "res = [x/np.sum(x)*100 for x in res]\n",
    "res = [qq[x > 25] for x in res]\n",
    "\n",
    "for idx in range(4):\n",
    "    print (\"Category {} | Topics {}\".format(cats[idx], \", \".join([str(x) for x in res[idx]])))"
   ]
  }
 ],
 "metadata": {
  "kernelspec": {
   "display_name": "Python 3",
   "language": "python",
   "name": "python3"
  },
  "language_info": {
   "codemirror_mode": {
    "name": "ipython",
    "version": 3
   },
   "file_extension": ".py",
   "mimetype": "text/x-python",
   "name": "python",
   "nbconvert_exporter": "python",
   "pygments_lexer": "ipython3",
   "version": "3.6.3"
  }
 },
 "nbformat": 4,
 "nbformat_minor": 1
}
